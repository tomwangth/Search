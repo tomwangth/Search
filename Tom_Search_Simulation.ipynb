{
 "cells": [
  {
   "cell_type": "code",
   "execution_count": 11,
   "metadata": {},
   "outputs": [
    {
     "name": "stdout",
     "output_type": "stream",
     "text": [
      "Stop Search Reward = 62.81399503458795 Opened Boxes =[2, 1]\n"
     ]
    }
   ],
   "source": [
    "import random\n",
    "\n",
    "class box(object):\n",
    "    \n",
    "    def __init__(self,reward_t,cost):\n",
    "        self.prob_t = random.uniform(0.5,1)\n",
    "        self.prob_f = 1-self.prob_t\n",
    "        \n",
    "        self.reward_t = reward_t\n",
    "        self.reward_f = 0\n",
    "        self.cost = cost\n",
    "\n",
    "box_1 = box(random.uniform(30, 100), random.uniform(1, 10)) \n",
    "box_2 = box(random.uniform(30, 100), random.uniform(1, 10))\n",
    "box_3 = box(random.uniform(30, 100), random.uniform(1, 10)) #generates 3 boxes\n",
    "\n",
    "boxes = [box_1, box_2, box_3]\n",
    "boxes_values = [box_1.reward_t, box_2.reward_t, box_3.reward_t] #list of box rewards values\n",
    "boxes_costs = [box_1.cost, box_2.cost, box_3.cost]  #list of box costs\n",
    "\n",
    "\n",
    "\n",
    "import sympy as sp\n",
    "\n",
    "\n",
    "class Agent(object):\n",
    "\n",
    "    def __init__(self, theta):\n",
    "        self.theta = theta\n",
    "    \n",
    "    def reservation_price(self, p, x, c):\n",
    "        \n",
    "        z = sp.symbols(\"z\")\n",
    "        \n",
    "        def CRRA(theta, value): #CRRA Utility\n",
    "            if theta == 1.0:\n",
    "                if value == 0.0:  # Handle value = 0.0\n",
    "                    return 0.0\n",
    "                else:\n",
    "                    return m.log(value)\n",
    "            elif theta > 0:\n",
    "                if value == 0.0:  # Handle value = 0.0\n",
    "                    return 0.0\n",
    "                else:\n",
    "                    return (1.0 / (1.0 - theta)) * (value) ** (1.0 - theta)\n",
    "  \n",
    "        f = (1 - p) * CRRA(self.theta, z - c) + p * CRRA(self.theta,x-c)- CRRA(self.theta, z)\n",
    "        res_p = sp.solve(f, z) #solve for res_price\n",
    "        return res_p\n",
    "    \n",
    "    \n",
    "    def sort_lst_boxes(self):\n",
    "        lst_res_p = []\n",
    "        dict_res_p = {}\n",
    "        j=0\n",
    "        for box in boxes:\n",
    "            lst_res_p.append(self.reservation_price(box.prob_t,box.reward_t,box.cost)[0])\n",
    "            dict_res_p.update({j:self.reservation_price(box.prob_t,box.reward_t,box.cost)[0]})\n",
    "            \n",
    "            j=j+1\n",
    "        \n",
    "        s = sorted(dict_res_p, key=dict_res_p.get)\n",
    "        \n",
    "        lst_res_p.sort(reverse=True)\n",
    "        return [s, lst_res_p]\n",
    "\n",
    "    def open_boxes(self):\n",
    "        reward_y = 0\n",
    "        for box in boxes:\n",
    "            get_reward = random.uniform(0,1)\n",
    "            if box.prob_t<=get_reward<1:\n",
    "                reward_y = box.reward_f\n",
    "            elif 0<get_reward<box.prob_f:\n",
    "                reward_y = box.reward_t\n",
    "        return reward_y\n",
    "   \n",
    "\n",
    "    def search(self):\n",
    "        lst_res_p = self.sort_lst_boxes()[1] #list of res price\n",
    "        opened_box = [] \n",
    "        for i in range(0,3):\n",
    "            max_res_p = lst_res_p[0]    \n",
    "            \n",
    "            if self.open_boxes() < max_res_p:\n",
    "                lst_res_p.remove(lst_res_p[0]) #remove opened box each time\n",
    "                reward_now = self.open_boxes()\n",
    "                opened_box.append(self.sort_lst_boxes()[0][i]) #get a list of opened box\n",
    "        \n",
    "            else:\n",
    "         \n",
    "                print(\"Stop Search\", \"Reward = \" + str(reward_now), \"Opened Boxes =\" + str(opened_box))\n",
    "                pass\n",
    "        \n",
    "            \n",
    "#test        \n",
    "a1 = Agent(0.5)\n",
    "a1.search()\n"
   ]
  },
  {
   "cell_type": "code",
   "execution_count": 10,
   "metadata": {},
   "outputs": [
    {
     "data": {
      "text/plain": [
       "' \\n       def max_res_price(self):\\n        max_res_p = -1999999\\n        for box in boxes:\\n            curr_res_p = self.reservation_price(box.prob_t,box.reward_t,box.cost)[0]\\n            if curr_res_p > max_res_p:\\n                max_res_p = curr_res_p\\n        return max_res_p\\n        '"
      ]
     },
     "execution_count": 10,
     "metadata": {},
     "output_type": "execute_result"
    }
   ],
   "source": [
    "\"\"\" \n",
    "       def max_res_price(self):\n",
    "        max_res_p = -1999999\n",
    "        for box in boxes:\n",
    "            curr_res_p = self.reservation_price(box.prob_t,box.reward_t,box.cost)[0]\n",
    "            if curr_res_p > max_res_p:\n",
    "                max_res_p = curr_res_p\n",
    "        return max_res_p\n",
    "        \"\"\""
   ]
  },
  {
   "cell_type": "code",
   "execution_count": null,
   "metadata": {},
   "outputs": [],
   "source": [
    "  else:\n",
    "                opened_box.append(self.sort_lst_boxes()[0][i])\n",
    "                reward_y = self.open_boxes()\n",
    "                print(\"Stop Search\", reward_y, opened_box)\n",
    "                pass\n",
    "        \n",
    "        "
   ]
  }
 ],
 "metadata": {
  "kernelspec": {
   "display_name": "Python 3",
   "language": "python",
   "name": "python3"
  },
  "language_info": {
   "codemirror_mode": {
    "name": "ipython",
    "version": 3
   },
   "file_extension": ".py",
   "mimetype": "text/x-python",
   "name": "python",
   "nbconvert_exporter": "python",
   "pygments_lexer": "ipython3",
   "version": "3.6.4"
  }
 },
 "nbformat": 4,
 "nbformat_minor": 2
}
