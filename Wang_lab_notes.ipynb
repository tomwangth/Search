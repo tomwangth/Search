{
 "cells": [
  {
   "cell_type": "markdown",
   "metadata": {},
   "source": [
    "## Lab Notebook\n",
    "Lab Notebook for Search Model\n"
   ]
  },
  {
   "cell_type": "markdown",
   "metadata": {},
   "source": [
    "#### Basic SymPy\n"
   ]
  },
  {
   "cell_type": "markdown",
   "metadata": {},
   "source": [
    "#### Risk Aversion"
   ]
  },
  {
   "cell_type": "code",
   "execution_count": 21,
   "metadata": {},
   "outputs": [
    {
     "name": "stdout",
     "output_type": "stream",
     "text": [
      "Input Agent Coeffient1\n",
      "0.4923179843771566 -1.9375192688646716\n",
      "0.5146323395085776 -1.5724534447352978\n",
      "0.5369466946399986 -1.207387620605924\n",
      "0.5592610497714194 -0.84232179647655\n",
      "0.5815754049028404 -0.4772559723471763\n",
      "0.6038897600342614 -0.1121901482178026\n",
      "0.6262041151656824 0.25287567591157123\n",
      "0.6485184702971033 0.6179415000409454\n",
      "0.6708328254285243 0.983007324170319\n",
      "0.6931471805599453 1.3480731482996928\n",
      "['S', 'S', 'S', 'S', 'S', 'S', 'S', 'S', 'R', 'R']\n",
      "Coefficient:1\n"
     ]
    },
    {
     "data": {
      "image/png": "[encoded data removed]",
      "text/plain": [
       "<matplotlib.figure.Figure at 0xaa61390>"
      ]
     },
     "metadata": {},
     "output_type": "display_data"
    }
   ],
   "source": [
    "### Constant Relative Risk Aversion Utility\n",
    "\n",
    "import sympy as sp\n",
    "import math \n",
    "\n",
    "e = math.e\n",
    "\n",
    "Key = [] #Choice outcome/swtich point \n",
    "\n",
    "def CRRA(c, theta): #CRRA Function\n",
    "    if theta > 0 and theta != 1:\n",
    "        u1 = (1/(1-theta))*(c**(1-theta))\n",
    "        return u1\n",
    "    elif theta == 1:\n",
    "        u2 = math.log(c,e)  \n",
    "        return u2\n",
    "    else:\n",
    "        pass\n",
    "    \n",
    "    \n",
    "def ExpectedUtility(p1, p2, c1, c2, theta1): #calculate expected utlity with CRRA utility \n",
    "    U1 = CRRA(c1,theta1)\n",
    "    U2 = CRRA(c2, theta1)\n",
    "    EU = p1*U1 + p2*U2\n",
    "    return  EU\n",
    "\n",
    "\n",
    "def OptionChoice(theta_1): #Given prob and value (expected value) in each Option, input theta and see\n",
    "    for i in range(1,11):\n",
    "        U_B = ExpectedUtility(i/10, 1-i/10, 3.85, 0.1, theta_1)\n",
    "        U_A = ExpectedUtility(i/10, 1-i/10, 2, 1.6, theta_1)\n",
    "        print (U_A, U_B)\n",
    "        if U_A > U_B:\n",
    "            Key.append('S')\n",
    "        else:\n",
    "            Key.append('R')\n",
    "    return Key\n",
    "    \n",
    "test = input(\"Input Agent Coeffient\") #Input agent coeffient to see\n",
    "test_1 = float(test)\n",
    "\n",
    "print(OptionChoice(test_1))\n",
    "\n",
    "###graph of CRRA utility function (given different theta)\n",
    "\n",
    "x_coords = []\n",
    "y_coords = []\n",
    "\n",
    "theta_value = input(\"Coefficient:\")\n",
    "\n",
    "for i in range (1,11):\n",
    "    x_coords.append(i)\n",
    "    theta_value1 = float(theta_value)\n",
    "    y_coords.append(CRRA(i, theta_value1))\n",
    "    \n",
    "\n",
    "import pylab as pl\n",
    "\n",
    "pl.plot(x_coords, y_coords, color = \"blue\", label = \"Constant Relative Risk Aversion (CRRA) utility function\")\n",
    "pl.xlabel(\"c\")\n",
    "pl.ylabel(\"U(c)\")\n",
    "pl.legend()\n",
    "\n",
    "pl.show()\n",
    "\n",
    "\n",
    "    \n"
   ]
  },
  {
   "cell_type": "code",
   "execution_count": 22,
   "metadata": {},
   "outputs": [],
   "source": [
    "# Sympy Search Model - Weitzman\n",
    "\n",
    "import sympy as sp\n",
    "\n",
    "\n",
    "def reservation_price(p,R,c):\n",
    "    z = (p*R-c)/p\n",
    "    return z\n",
    "\n"
   ]
  }
 ],
 "metadata": {
  "kernelspec": {
   "display_name": "Python 3",
   "language": "python",
   "name": "python3"
  },
  "language_info": {
   "codemirror_mode": {
    "name": "ipython",
    "version": 3
   },
   "file_extension": ".py",
   "mimetype": "text/x-python",
   "name": "python",
   "nbconvert_exporter": "python",
   "pygments_lexer": "ipython3",
   "version": "3.6.4"
  }
 },
 "nbformat": 4,
 "nbformat_minor": 2
}
