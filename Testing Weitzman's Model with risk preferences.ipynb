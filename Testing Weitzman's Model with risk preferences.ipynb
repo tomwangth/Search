{
 "cells": [
  {
   "cell_type": "code",
   "execution_count": 3,
   "metadata": {},
   "outputs": [
    {
     "name": "stderr",
     "output_type": "stream",
     "text": [
      "C:\\ProgramData\\Anaconda3\\lib\\site-packages\\numpy\\core\\numeric.py:492: ComplexWarning: Casting complex values to real discards the imaginary part\n",
      "  return array(a, dtype, copy=False, order=order)\n"
     ]
    },
    {
     "data": {
      "image/png": "[encoded data removed]",
      "text/plain": [
       "<matplotlib.figure.Figure at 0x955b9b0>"
      ]
     },
     "metadata": {},
     "output_type": "display_data"
    }
   ],
   "source": [
    "\n",
    "import sympy as sp \n",
    "import pylab as pl\n",
    "import math\n",
    "\n",
    "def reserve_price(probablity,reward,cost):\n",
    "    \"\"\"given probablity of sucxcess, reward of success and the \n",
    "            cost of opening the box, return reservation price\"\"\"\n",
    "    reservation_price = (probablity * reward - cost) / probablity \n",
    "    return reservation_price\n",
    "\n",
    "def reserve_price_crra(probablity,reward,cost,theta):\n",
    "    \"\"\"given probablity of sucxcess, reward of success, the \n",
    "            cost of opening the box, and theta value, return reservation price incorporating CRRA\"\"\"\n",
    "    reservation_price_crra = ((reward**(1-theta))-((cost**(1-theta))/ probablity))**(1 / (1-theta))\n",
    "    return reservation_price_crra\n",
    "\n",
    "\n",
    "probablities = []\n",
    "n = 0.01\n",
    "for i in range (1,2):\n",
    "    n += 0.5\n",
    "    probablities.append(n)\n",
    "\n",
    "for p in (probablities):\n",
    "    rp_x_coords = []\n",
    "    rp_y_coords = []\n",
    "    for i in range (1,100):\n",
    "        rp_x_coords.append(i)\n",
    "        rp_y_coords.append(reserve_price_crra(p,i,8,0.6)) \n",
    "    pl.plot(rp_x_coords,rp_y_coords)\n",
    "    pl.title('reward-reservation plot')\n",
    "    pl.xlabel('amount of reward')\n",
    "    pl.ylabel('reservation price')\n",
    "    pl.legend('')\n",
    "\n",
    "\n",
    "\n",
    "for p in (probablities):\n",
    "    rp_x_coords_crra = []\n",
    "    rp_y_coords_crra = []\n",
    "    for i in range (1,100):\n",
    "        rp_x_coords_crra.append(i)\n",
    "        rp_y_coords_crra.append(reserve_price(p,i,8)) \n",
    "    pl.plot(rp_x_coords_crra,rp_y_coords_crra)\n",
    "    pl.title('reward-reservation plot')\n",
    "    pl.xlabel('amount of reward')\n",
    "    pl.ylabel('reservation price')\n",
    "    pl.legend('')\n",
    "pl.show()\n",
    "\n"
   ]
  },
  {
   "cell_type": "code",
   "execution_count": 2,
   "metadata": {},
   "outputs": [
    {
     "ename": "NameError",
     "evalue": "name 'option_A' is not defined",
     "output_type": "error",
     "traceback": [
      "\u001b[1;31m---------------------------------------------------------------------------\u001b[0m",
      "\u001b[1;31mNameError\u001b[0m                                 Traceback (most recent call last)",
      "\u001b[1;32m<ipython-input-2-b245cf8bdb5e>\u001b[0m in \u001b[0;36m<module>\u001b[1;34m()\u001b[0m\n\u001b[0;32m     16\u001b[0m \u001b[1;33m\u001b[0m\u001b[0m\n\u001b[0;32m     17\u001b[0m \u001b[0mP\u001b[0m \u001b[1;33m=\u001b[0m \u001b[0mEnvironment\u001b[0m\u001b[1;33m(\u001b[0m\u001b[1;33m)\u001b[0m\u001b[1;33m\u001b[0m\u001b[0m\n\u001b[1;32m---> 18\u001b[1;33m \u001b[0mprint\u001b[0m\u001b[1;33m(\u001b[0m\u001b[0mP\u001b[0m\u001b[1;33m.\u001b[0m\u001b[0mgenerate_lottery\u001b[0m\u001b[1;33m(\u001b[0m\u001b[1;33m)\u001b[0m\u001b[1;33m)\u001b[0m\u001b[1;33m\u001b[0m\u001b[0m\n\u001b[0m\u001b[0;32m     19\u001b[0m \u001b[1;33m\u001b[0m\u001b[0m\n",
      "\u001b[1;32m<ipython-input-2-b245cf8bdb5e>\u001b[0m in \u001b[0;36mgenerate_lottery\u001b[1;34m(self)\u001b[0m\n\u001b[0;32m     10\u001b[0m     \u001b[1;32mdef\u001b[0m \u001b[0mgenerate_lottery\u001b[0m\u001b[1;33m(\u001b[0m\u001b[0mself\u001b[0m\u001b[1;33m)\u001b[0m\u001b[1;33m:\u001b[0m\u001b[1;33m\u001b[0m\u001b[0m\n\u001b[0;32m     11\u001b[0m         \u001b[1;32mfor\u001b[0m \u001b[0mi\u001b[0m \u001b[1;32min\u001b[0m \u001b[0mrange\u001b[0m \u001b[1;33m(\u001b[0m\u001b[1;36m1\u001b[0m\u001b[1;33m,\u001b[0m\u001b[1;36m11\u001b[0m\u001b[1;33m)\u001b[0m\u001b[1;33m:\u001b[0m\u001b[1;33m\u001b[0m\u001b[0m\n\u001b[1;32m---> 12\u001b[1;33m             \u001b[0moption_A\u001b[0m\u001b[1;33m.\u001b[0m\u001b[0mappend\u001b[0m\u001b[1;33m(\u001b[0m\u001b[1;33m[\u001b[0m\u001b[1;33m[\u001b[0m\u001b[0mfloat\u001b[0m\u001b[1;33m(\u001b[0m\u001b[0mi\u001b[0m\u001b[1;33m/\u001b[0m\u001b[1;36m10\u001b[0m\u001b[1;33m)\u001b[0m\u001b[1;33m,\u001b[0m \u001b[1;36m2.0\u001b[0m\u001b[1;33m]\u001b[0m\u001b[1;33m,\u001b[0m\u001b[1;33m[\u001b[0m\u001b[0mfloat\u001b[0m\u001b[1;33m(\u001b[0m\u001b[1;36m1\u001b[0m\u001b[1;33m-\u001b[0m\u001b[1;33m(\u001b[0m\u001b[0mi\u001b[0m\u001b[1;33m/\u001b[0m\u001b[1;36m10\u001b[0m\u001b[1;33m)\u001b[0m\u001b[1;33m)\u001b[0m\u001b[1;33m,\u001b[0m \u001b[1;36m1.6\u001b[0m\u001b[1;33m]\u001b[0m\u001b[1;33m]\u001b[0m\u001b[1;33m)\u001b[0m\u001b[1;33m\u001b[0m\u001b[0m\n\u001b[0m\u001b[0;32m     13\u001b[0m             \u001b[0moption_B\u001b[0m\u001b[1;33m.\u001b[0m\u001b[0mappend\u001b[0m\u001b[1;33m(\u001b[0m\u001b[1;33m[\u001b[0m\u001b[1;33m[\u001b[0m\u001b[0mfloat\u001b[0m\u001b[1;33m(\u001b[0m\u001b[0mi\u001b[0m\u001b[1;33m/\u001b[0m\u001b[1;36m10\u001b[0m\u001b[1;33m)\u001b[0m\u001b[1;33m,\u001b[0m \u001b[1;36m3.85\u001b[0m\u001b[1;33m]\u001b[0m\u001b[1;33m,\u001b[0m\u001b[1;33m[\u001b[0m\u001b[0mfloat\u001b[0m\u001b[1;33m(\u001b[0m\u001b[1;36m1\u001b[0m\u001b[1;33m-\u001b[0m\u001b[1;33m(\u001b[0m\u001b[0mi\u001b[0m\u001b[1;33m/\u001b[0m\u001b[1;36m10\u001b[0m\u001b[1;33m)\u001b[0m\u001b[1;33m)\u001b[0m\u001b[1;33m,\u001b[0m \u001b[1;36m0.10\u001b[0m\u001b[1;33m]\u001b[0m\u001b[1;33m]\u001b[0m\u001b[1;33m)\u001b[0m\u001b[1;33m\u001b[0m\u001b[0m\n\u001b[0;32m     14\u001b[0m         \u001b[1;32mreturn\u001b[0m \u001b[0moption_A\u001b[0m\u001b[1;33m,\u001b[0m \u001b[0moption_B\u001b[0m\u001b[1;33m\u001b[0m\u001b[0m\n",
      "\u001b[1;31mNameError\u001b[0m: name 'option_A' is not defined"
     ]
    }
   ],
   "source": [
    "\n",
    "import sympy as sp\n",
    "\n",
    "class Environment(object):\n",
    "    \n",
    "    def __init__(self):\n",
    "        self.option_A = []\n",
    "        self.option_B = []\n",
    "        self.value\n",
    "\n",
    "        \n",
    "    def generate_lottery(self):\n",
    "        for i in range (1,11):\n",
    "            self.option_A.append([[float(i/10), 2.0],[float(1-(i/10)), 1.6]])\n",
    "            self.option_B.append([[float(i/10), 3.85],[float(1-(i/10)), 0.10]])\n",
    "        return self.option_A, self.option_B\n",
    "\n",
    "            \n",
    "P = Environment()\n",
    "print(P.generate_lottery())\n",
    "    "
   ]
  },
  {
   "cell_type": "code",
   "execution_count": null,
   "metadata": {},
   "outputs": [],
   "source": []
  }
 ],
 "metadata": {
  "kernelspec": {
   "display_name": "Python 3",
   "language": "python",
   "name": "python3"
  },
  "language_info": {
   "codemirror_mode": {
    "name": "ipython",
    "version": 3
   },
   "file_extension": ".py",
   "mimetype": "text/x-python",
   "name": "python",
   "nbconvert_exporter": "python",
   "pygments_lexer": "ipython3",
   "version": "3.6.4"
  }
 },
 "nbformat": 4,
 "nbformat_minor": 2
}
