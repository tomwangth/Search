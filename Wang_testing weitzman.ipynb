{
 "cells": [
  {
   "cell_type": "code",
   "execution_count": 22,
   "metadata": {
    "scrolled": true
   },
   "outputs": [
    {
     "name": "stdout",
     "output_type": "stream",
     "text": [
      "The Probabilities of Winning Rewards:0.9\n",
      "The CRRA Coefficient:0.5\n",
      "Costs of Search:8\n"
     ]
    },
    {
     "data": {
      "image/png": "[encoded data removed]",
      "text/plain": [
       "<matplotlib.figure.Figure at 0x83db6a0>"
      ]
     },
     "metadata": {},
     "output_type": "display_data"
    }
   ],
   "source": [
    "import sympy as sp \n",
    "import pylab as pl\n",
    "import math\n",
    "\n",
    "e= math.e\n",
    "\n",
    "def reservation_price(p,x,c):\n",
    "    res_p = (p * x - c) / p\n",
    "    return res_p\n",
    "\n",
    "def reservation_price_crra(p,x,c,theta):\n",
    "    if theta != 1:\n",
    "        res_p_crra = ((x**(1-theta)-(c**(1-theta)/p))**(1/(1-theta)))\n",
    "        return res_p_crra\n",
    "    elif theta == 1:\n",
    "        res_p_crra2 = math.log(c, e)\n",
    "        return res_p_crra2\n",
    "\n",
    "prob_input = input(\"The Probabilities of Winning Rewards:\")\n",
    "theta_input = input (\"The CRRA Coefficient:\")\n",
    "costs_input = input(\"Costs of Search:\")\n",
    "\n",
    "prob = float(prob_input)\n",
    "theta = float(theta_input)\n",
    "costs = float(costs_input)\n",
    "\n",
    "x_coords = []\n",
    "y_coords = []\n",
    "\n",
    "for rewards in range (1,101):\n",
    "        x_coords.append(rewards)\n",
    "        y_coords.append(reservation_price_crra(prob,rewards,costs,theta)) \n",
    "\n",
    "        \n",
    "pl.plot(x_coords,y_coords)\n",
    "pl.title('Res_Price as a function of Rewards')\n",
    "pl.xlabel('x')\n",
    "\n",
    "pl.ylabel('Z')\n",
    "pl.legend('')\n",
    "\n",
    "\n",
    "\n",
    "\n",
    "x_coords_crra = []\n",
    "y_coords_crra = []\n",
    "\n",
    "for rewards in range (1,101):\n",
    "        x_coords_crra.append(rewards)\n",
    "        y_coords_crra.append(reservation_price(prob,rewards,costs)) \n",
    "\n",
    "        \n",
    "pl.plot(x_coords_crra,y_coords_crra, color = \"red\")\n",
    "pl.title('Res_Price as a function of Rewards')\n",
    "pl.xlabel('x')\n",
    "pl.ylabel('Z')\n",
    "pl.legend('')\n",
    "\n",
    "pl.show()\n",
    "\n"
   ]
  },
  {
   "cell_type": "code",
   "execution_count": 32,
   "metadata": {},
   "outputs": [
    {
     "ename": "TypeError",
     "evalue": "'Add' object is not callable",
     "output_type": "error",
     "traceback": [
      "\u001b[1;31m---------------------------------------------------------------------------\u001b[0m",
      "\u001b[1;31mTypeError\u001b[0m                                 Traceback (most recent call last)",
      "\u001b[1;32m<ipython-input-32-95a932877784>\u001b[0m in \u001b[0;36m<module>\u001b[1;34m()\u001b[0m\n\u001b[0;32m      3\u001b[0m \u001b[0mz\u001b[0m\u001b[1;33m,\u001b[0m\u001b[0mt\u001b[0m\u001b[1;33m,\u001b[0m\u001b[0mp\u001b[0m\u001b[1;33m,\u001b[0m\u001b[0mc\u001b[0m \u001b[1;33m=\u001b[0m \u001b[0msp\u001b[0m\u001b[1;33m.\u001b[0m\u001b[0msymbols\u001b[0m\u001b[1;33m(\u001b[0m\u001b[1;34m'z t p c'\u001b[0m\u001b[1;33m)\u001b[0m\u001b[1;33m\u001b[0m\u001b[0m\n\u001b[0;32m      4\u001b[0m \u001b[1;33m\u001b[0m\u001b[0m\n\u001b[1;32m----> 5\u001b[1;33m \u001b[0mF\u001b[0m \u001b[1;33m=\u001b[0m \u001b[1;33m(\u001b[0m\u001b[0mz\u001b[0m\u001b[1;33m**\u001b[0m\u001b[1;33m(\u001b[0m\u001b[1;36m1\u001b[0m\u001b[1;33m-\u001b[0m\u001b[0mt\u001b[0m\u001b[1;33m)\u001b[0m\u001b[1;33m)\u001b[0m\u001b[1;33m-\u001b[0m\u001b[1;33m(\u001b[0m\u001b[1;33m(\u001b[0m\u001b[1;36m1\u001b[0m\u001b[1;33m-\u001b[0m\u001b[0mp\u001b[0m\u001b[1;33m)\u001b[0m\u001b[1;33m(\u001b[0m\u001b[0mz\u001b[0m\u001b[1;33m-\u001b[0m\u001b[0mc\u001b[0m\u001b[1;33m)\u001b[0m\u001b[1;33m**\u001b[0m\u001b[1;33m(\u001b[0m\u001b[1;36m1\u001b[0m\u001b[1;33m-\u001b[0m\u001b[0mt\u001b[0m\u001b[1;33m)\u001b[0m\u001b[1;33m)\u001b[0m\u001b[1;33m-\u001b[0m\u001b[1;33m(\u001b[0m\u001b[1;33m(\u001b[0m\u001b[0mx\u001b[0m\u001b[1;33m-\u001b[0m\u001b[0mc\u001b[0m\u001b[1;33m)\u001b[0m\u001b[1;33m**\u001b[0m\u001b[1;33m(\u001b[0m\u001b[1;36m1\u001b[0m\u001b[1;33m-\u001b[0m\u001b[0mt\u001b[0m\u001b[1;33m)\u001b[0m\u001b[1;33m)\u001b[0m\u001b[1;33m\u001b[0m\u001b[0m\n\u001b[0m\u001b[0;32m      6\u001b[0m \u001b[0mprint\u001b[0m \u001b[1;33m(\u001b[0m\u001b[0mF\u001b[0m\u001b[1;33m)\u001b[0m\u001b[1;33m\u001b[0m\u001b[0m\n\u001b[0;32m      7\u001b[0m \u001b[1;33m\u001b[0m\u001b[0m\n",
      "\u001b[1;31mTypeError\u001b[0m: 'Add' object is not callable"
     ]
    }
   ],
   "source": [
    "import sympy as sp\n",
    "\n",
    "z,t,p,c = sp.symbols('z t p c')\n",
    "\n",
    "F = (z**(1-t))-((1-p)(z-c)**(1-t))-((x-c)**(1-t))\n",
    "print (F)\n",
    "\n"
   ]
  }
 ],
 "metadata": {
  "kernelspec": {
   "display_name": "Python 3",
   "language": "python",
   "name": "python3"
  },
  "language_info": {
   "codemirror_mode": {
    "name": "ipython",
    "version": 3
   },
   "file_extension": ".py",
   "mimetype": "text/x-python",
   "name": "python",
   "nbconvert_exporter": "python",
   "pygments_lexer": "ipython3",
   "version": "3.6.4"
  }
 },
 "nbformat": 4,
 "nbformat_minor": 2
}
